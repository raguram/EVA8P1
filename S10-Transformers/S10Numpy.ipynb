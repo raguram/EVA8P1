{
 "cells": [
  {
   "cell_type": "code",
   "execution_count": 2,
   "metadata": {},
   "outputs": [],
   "source": [
    "## What am I going to do as a part of this? I am going to write the operations for transformer. \n",
    "\n",
    "from numpy import array \n",
    "from numpy import random \n",
    "from numpy import dot \n",
    "from scipy.special import softmax "
   ]
  },
  {
   "cell_type": "code",
   "execution_count": 4,
   "metadata": {},
   "outputs": [
    {
     "data": {
      "text/plain": [
       "array([[0.17977126, 0.32022874, 0.32022874, 0.17977126],\n",
       "       [0.09627706, 0.30549413, 0.54418042, 0.05404839],\n",
       "       [0.05786364, 0.32705881, 0.58259384, 0.03248372],\n",
       "       [0.25      , 0.25      , 0.25      , 0.25      ]])"
      ]
     },
     "execution_count": 4,
     "metadata": {},
     "output_type": "execute_result"
    }
   ],
   "source": [
    "patch1 = array([1, 0, 0])\n",
    "patch2 = array([0, 1, 0])\n",
    "patch3 = array([1, 1, 0])\n",
    "patch4 = array([0, 0, 1])\n",
    "\n",
    "patches = array([patch1, patch2, patch3, patch4])\n",
    "\n",
    "# generating the weight matrices \n",
    "w_q = random.randint(3, size=(3,3))\n",
    "w_k = random.randint(3, size=(3,3))\n",
    "w_v = random.randint(3, size=(3,3))\n",
    "\n",
    "q = patches @ w_q\n",
    "k = patches @ w_k\n",
    "v = patches @ w_v\n",
    "\n",
    "scores = q @ k.transpose()\n",
    "\n",
    "attention = softmax(scores / k.shape[1] ** 0.5, axis = 1)\n",
    "\n"
   ]
  }
 ],
 "metadata": {
  "kernelspec": {
   "display_name": "eva",
   "language": "python",
   "name": "python3"
  },
  "language_info": {
   "codemirror_mode": {
    "name": "ipython",
    "version": 3
   },
   "file_extension": ".py",
   "mimetype": "text/x-python",
   "name": "python",
   "nbconvert_exporter": "python",
   "pygments_lexer": "ipython3",
   "version": "3.7.16 (default, Jan 17 2023, 22:20:44) \n[GCC 11.2.0]"
  },
  "orig_nbformat": 4,
  "vscode": {
   "interpreter": {
    "hash": "1f6b99922f2dfbbc468bc7e177041b5960b90759d8e17794bae750e0f34d5728"
   }
  }
 },
 "nbformat": 4,
 "nbformat_minor": 2
}
